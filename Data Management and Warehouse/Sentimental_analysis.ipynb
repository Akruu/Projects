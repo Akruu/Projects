{
 "cells": [
  {
   "cell_type": "code",
   "execution_count": null,
   "id": "a5c00b62",
   "metadata": {},
   "outputs": [],
   "source": [
    "import pandas as pd\n",
    "from textblob import TextBlob\n",
    "\n",
    "# Load the CSV file containing the Airbnb reviews\n",
    "df = pd. read_csv('reviews.csv')\n",
    "\n",
    "# Define a function to determine the sentiment of a comment\n",
    "def get_sentiment (comment):\n",
    "    blob = TextBlob(str(comment))\n",
    "    sentiment = blob.sentiment.polarity\n",
    "    if sentiment > 0:\n",
    "        return \"Positive\"\n",
    "    elif sentiment < 0:\n",
    "        return \"Negative\"\n",
    "    else:\n",
    "        return 'Neutral'\n",
    "\n",
    "# Apply the get_sentiment function to the 'comments' column\n",
    "df['Sentiment'] = df['comments'].apply(get_sentiment)\n",
    "# Group the data by listing ID and calculate the percentage of positive, negative, and neutral reviews\n",
    "grouped = df.groupby('listing_id')['Sentinent'].value_counts(normalize=True).unstack(fill_value=0) * 100\n",
    "\n",
    "# Print the results\n",
    "print (grouped)"
   ]
  },
  {
   "cell_type": "code",
   "execution_count": null,
   "id": "bba1d583",
   "metadata": {},
   "outputs": [],
   "source": []
  }
 ],
 "metadata": {
  "kernelspec": {
   "display_name": "Python 3 (ipykernel)",
   "language": "python",
   "name": "python3"
  },
  "language_info": {
   "codemirror_mode": {
    "name": "ipython",
    "version": 3
   },
   "file_extension": ".py",
   "mimetype": "text/x-python",
   "name": "python",
   "nbconvert_exporter": "python",
   "pygments_lexer": "ipython3",
   "version": "3.10.9"
  }
 },
 "nbformat": 4,
 "nbformat_minor": 5
}
